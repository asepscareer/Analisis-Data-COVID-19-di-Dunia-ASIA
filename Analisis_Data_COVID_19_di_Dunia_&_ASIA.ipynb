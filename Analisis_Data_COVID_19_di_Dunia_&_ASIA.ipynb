{
 "cells": [
  {
   "cell_type": "markdown",
   "metadata": {
    "colab_type": "text",
    "id": "xzHcnHvOIo5Y"
   },
   "source": [
    "<div id=\"theory\"><h2>Pendahuluan</h2><p>Covid19 adalah pandemi yang sudah mewabah ke seluruh dunia. Sebagian besar negara-negara di dunia sudah terjangkit. Penanganan tiap-tiap negara pun berbeda, sesuai dengan kebijakan pemerintah. Hal ini mengakibatkan perbedaan trend kenaikan atau penurunan kasus covid berbeda-beda tiap negara.</p>\n",
    "<p>Pada kasus kali ini, kita akan mencoba menggali data covid19 dari salah satu open api yang tersedia yaitu <a href=\"https://covid19-api.org/\">https://covid19-api.org/</a>.</p>\n",
    "<p>&nbsp;</p>\n",
    "<p>&nbsp;</p>"
   ]
  },
  {
   "cell_type": "markdown",
   "metadata": {
    "colab_type": "text",
    "id": "ORxmSKchJBSV"
   },
   "source": [
    "<div id=\"theorycontent\" style=\"overflow-x: scroll; display: block;\"><h2>Library yang dibutuhkan</h2><p>Pertama-tama, import terlebih dahulu library yang dibutuhkan, antara lain secara berurutan adalah</p>\n",
    "<ul>\n",
    "<li>json,</li>\n",
    "<li>numpy,</li>\n",
    "<li>pandas, dan</li>\n",
    "<li>requests.</li>\n",
    "</ul>\n",
    "<p>Library numpy dan pandas diimport sebagai aliasnya.</p>\n",
    "<p>&nbsp;</p>"
   ]
  },
  {
   "cell_type": "code",
   "execution_count": 1,
   "metadata": {
    "colab": {},
    "colab_type": "code",
    "id": "Suqzl0LVJS09"
   },
   "outputs": [],
   "source": [
    "import json\n",
    "import numpy as np\n",
    "import pandas as pd\n",
    "import requests"
   ]
  },
  {
   "cell_type": "markdown",
   "metadata": {
    "colab_type": "text",
    "id": "lqSkJDngKGsp"
   },
   "source": [
    "<div id=\"theorycontent\" style=\"overflow-x: scroll; display: block;\"><h2>Membuat Fungsi get API</h2><p>Buat fungsi python <strong>get_json</strong> dengan parameter <strong>api_url</strong>. fungsi ini akan mengembalikan value berupa python dictionary jika <strong>status_code</strong> yang dihasilkan adalah 200. Jika tidak, maka value yang dikembalikan adalah <strong>None</strong>.</p>\n",
    "<p>&nbsp;</p>\n",
    "<p>&nbsp;</p>"
   ]
  },
  {
   "cell_type": "code",
   "execution_count": 2,
   "metadata": {
    "colab": {},
    "colab_type": "code",
    "id": "MFQukm36J-iq"
   },
   "outputs": [],
   "source": [
    "def get_json(api_url):\n",
    "\tresponse = requests.get(api_url)\n",
    "\tif response.status_code == 200:\n",
    "\t\treturn json.loads(response.content.decode('utf-8'))\n",
    "\telse:\n",
    "\t\treturn None"
   ]
  },
  {
   "cell_type": "markdown",
   "metadata": {
    "colab_type": "text",
    "id": "IKkJdxmqK3Mm"
   },
   "source": [
    "<div id=\"theorycontent\" style=\"overflow-x: scroll; display: block;\"><h2>Memanggil API Covid19</h2><p>Rekapitulasi data COVID-19 global berada di <a href=\"https://covid19-api.org/\">https://covid19-api.org/</a>. Gunakan parameter record_date untuk mengambil data covid19 di seluruh negara pada tanggal tertentu. Untuk kasus ini, gunakan record_date '2020-08-17', dan masukkan hasil respon api ke variable df_covid_worldwide.</p>\n",
    "<p>Untuk mendapatkan dataframe covid19, gunakan fungsi pd.io.json.json_normalize dan panggil function yang sudah dibuat sebelumnya, yaitu get_json() Print sample data covid dengan menggunakan head() function.</p>\n",
    "<p>&nbsp;</p>"
   ]
  },
  {
   "cell_type": "code",
   "execution_count": 3,
   "metadata": {
    "colab": {
     "base_uri": "https://localhost:8080/",
     "height": 153
    },
    "colab_type": "code",
    "id": "nwJdXYhyK6Yw",
    "outputId": "0119293b-cc63-4cbf-a9b7-1d7dcb8efeb4"
   },
   "outputs": [
    {
     "name": "stdout",
     "output_type": "stream",
     "text": [
      "  country          last_update    cases  deaths  recovered\n",
      "0      US  2020-08-30T23:28:28  5993668  183034    2153939\n",
      "1      BR  2020-08-30T23:28:28  3846153  120462    3202185\n",
      "2      IN  2020-08-30T23:28:28  3542733   63498    2713933\n",
      "3      RU  2020-08-30T23:28:28   987470   17045     804941\n",
      "4      PE  2020-08-30T23:28:28   639435   28607     446675\n"
     ]
    },
    {
     "name": "stderr",
     "output_type": "stream",
     "text": [
      "/usr/local/lib/python3.6/dist-packages/ipykernel_launcher.py:3: FutureWarning: pandas.io.json.json_normalize is deprecated, use pandas.json_normalize instead\n",
      "  This is separate from the ipykernel package so we can avoid doing imports until\n"
     ]
    }
   ],
   "source": [
    "record_date = '2020-08-31'\n",
    "covid_url = 'https://covid19-api.org/api/status?date='+record_date\n",
    "df_covid_worldwide = pd.io.json.json_normalize(get_json(covid_url))\n",
    "\n",
    "print(df_covid_worldwide.head())"
   ]
  },
  {
   "cell_type": "markdown",
   "metadata": {
    "colab_type": "text",
    "id": "j1KJJNRBLdOj"
   },
   "source": [
    "<div id=\"theorycontent\" style=\"overflow-x: scroll; display: block;\"><h2>Merubah Format date</h2><p>Ubah format kolom 'last_update' menggunakan fungsi to_datetime dengan format <strong>YYYY-mm-dd HH:MM:SS</strong>. Lalu ubah bentuk datetime ke bentuk date dengan fungsi date() melalui fungsi lambda untuk mengubah setiap row-nya.</p>\n",
    "<p>&nbsp;</p>"
   ]
  },
  {
   "cell_type": "code",
   "execution_count": 4,
   "metadata": {
    "colab": {
     "base_uri": "https://localhost:8080/",
     "height": 255
    },
    "colab_type": "code",
    "id": "J_AF_3m5LgKa",
    "outputId": "ce1144e8-e207-4535-d0c8-a240b3d5dfbd"
   },
   "outputs": [
    {
     "name": "stdout",
     "output_type": "stream",
     "text": [
      "    country last_update    cases  deaths  recovered\n",
      "0        US  2020-08-30  5993668  183034    2153939\n",
      "1        BR  2020-08-30  3846153  120462    3202185\n",
      "2        IN  2020-08-30  3542733   63498    2713933\n",
      "3        RU  2020-08-30   987470   17045     804941\n",
      "4        PE  2020-08-30   639435   28607     446675\n",
      "..      ...         ...      ...     ...        ...\n",
      "201      GG  2020-03-17        0       0          0\n",
      "202      GL  2020-03-19        0       0          0\n",
      "203      GU  2020-03-18        0       0          0\n",
      "204      JE  2020-03-17        0       0          0\n",
      "205      PR  2020-03-17        0       0          0\n",
      "\n",
      "[206 rows x 5 columns]\n"
     ]
    }
   ],
   "source": [
    "df_covid_worldwide['last_update'] = pd.to_datetime(df_covid_worldwide['last_update'], format= \"%Y-%m-%d %H:%M:%S\")\n",
    "df_covid_worldwide['last_update'] = df_covid_worldwide['last_update'].apply(lambda x: x.date())\n",
    "print(df_covid_worldwide)"
   ]
  },
  {
   "cell_type": "markdown",
   "metadata": {
    "colab_type": "text",
    "id": "5Dk9JzHEyr5e"
   },
   "source": [
    "<div id=\"theorycontent\" style=\"overflow-x: scroll; display: block;\"><h2>Mengambil Data Countries</h2><p>Buatlah dataframe countries dengan memanggil variable countries_url ke api covid19-api.org. Lalu ubah nama kolom alpha2 menjadi country, kemudian ambil hanya kolom name dan country saja untuk dataframe countries (df_countries) ini.</p>\n",
    "<p>Akhirnya cetaklah lima data teratas dari dataframe countries (df_countries).</p>"
   ]
  },
  {
   "cell_type": "code",
   "execution_count": 5,
   "metadata": {
    "colab": {
     "base_uri": "https://localhost:8080/",
     "height": 453
    },
    "colab_type": "code",
    "id": "JyzE_DqQywNC",
    "outputId": "d07c0643-91e9-4003-fabc-99b3edf81f48"
   },
   "outputs": [
    {
     "name": "stderr",
     "output_type": "stream",
     "text": [
      "/usr/local/lib/python3.6/dist-packages/ipykernel_launcher.py:2: FutureWarning: pandas.io.json.json_normalize is deprecated, use pandas.json_normalize instead\n",
      "  \n"
     ]
    },
    {
     "data": {
      "text/html": [
       "<div>\n",
       "<style scoped>\n",
       "    .dataframe tbody tr th:only-of-type {\n",
       "        vertical-align: middle;\n",
       "    }\n",
       "\n",
       "    .dataframe tbody tr th {\n",
       "        vertical-align: top;\n",
       "    }\n",
       "\n",
       "    .dataframe thead th {\n",
       "        text-align: right;\n",
       "    }\n",
       "</style>\n",
       "<table border=\"1\" class=\"dataframe\">\n",
       "  <thead>\n",
       "    <tr style=\"text-align: right;\">\n",
       "      <th></th>\n",
       "      <th>name</th>\n",
       "      <th>country</th>\n",
       "    </tr>\n",
       "  </thead>\n",
       "  <tbody>\n",
       "    <tr>\n",
       "      <th>0</th>\n",
       "      <td>Afghanistan</td>\n",
       "      <td>AF</td>\n",
       "    </tr>\n",
       "    <tr>\n",
       "      <th>1</th>\n",
       "      <td>Albania</td>\n",
       "      <td>AL</td>\n",
       "    </tr>\n",
       "    <tr>\n",
       "      <th>2</th>\n",
       "      <td>Algeria</td>\n",
       "      <td>DZ</td>\n",
       "    </tr>\n",
       "    <tr>\n",
       "      <th>3</th>\n",
       "      <td>Andorra</td>\n",
       "      <td>AD</td>\n",
       "    </tr>\n",
       "    <tr>\n",
       "      <th>4</th>\n",
       "      <td>Angola</td>\n",
       "      <td>AO</td>\n",
       "    </tr>\n",
       "    <tr>\n",
       "      <th>...</th>\n",
       "      <td>...</td>\n",
       "      <td>...</td>\n",
       "    </tr>\n",
       "    <tr>\n",
       "      <th>201</th>\n",
       "      <td>Viet Nam</td>\n",
       "      <td>VN</td>\n",
       "    </tr>\n",
       "    <tr>\n",
       "      <th>202</th>\n",
       "      <td>Western Sahara</td>\n",
       "      <td>EH</td>\n",
       "    </tr>\n",
       "    <tr>\n",
       "      <th>203</th>\n",
       "      <td>Yemen</td>\n",
       "      <td>YE</td>\n",
       "    </tr>\n",
       "    <tr>\n",
       "      <th>204</th>\n",
       "      <td>Zambia</td>\n",
       "      <td>ZM</td>\n",
       "    </tr>\n",
       "    <tr>\n",
       "      <th>205</th>\n",
       "      <td>Zimbabwe</td>\n",
       "      <td>ZW</td>\n",
       "    </tr>\n",
       "  </tbody>\n",
       "</table>\n",
       "<p>206 rows × 2 columns</p>\n",
       "</div>"
      ],
      "text/plain": [
       "               name country\n",
       "0       Afghanistan      AF\n",
       "1           Albania      AL\n",
       "2           Algeria      DZ\n",
       "3           Andorra      AD\n",
       "4            Angola      AO\n",
       "..              ...     ...\n",
       "201        Viet Nam      VN\n",
       "202  Western Sahara      EH\n",
       "203           Yemen      YE\n",
       "204          Zambia      ZM\n",
       "205        Zimbabwe      ZW\n",
       "\n",
       "[206 rows x 2 columns]"
      ]
     },
     "execution_count": 5,
     "metadata": {
      "tags": []
     },
     "output_type": "execute_result"
    }
   ],
   "source": [
    "countries_url = 'https://covid19-api.org/api/countries'\n",
    "df_countries = pd.io.json.json_normalize(get_json(countries_url))\n",
    "df_countries = df_countries.rename(columns={'alpha2': 'country'})[['name','country']]\n",
    "\n",
    "df_countries"
   ]
  },
  {
   "cell_type": "markdown",
   "metadata": {
    "colab_type": "text",
    "id": "Qjr2DqKQzqQG"
   },
   "source": [
    "<div id=\"theorycontent\" style=\"overflow-x: scroll; display: block;\"><h2>Merge Covid19 Data dan Countries</h2><p>Selanjutnya adalah mapping data covid19 dan data country. Gunakan fungsi merge pada pandas untuk menggabungkan df_covid_worldwide dan df_countries. Untuk merge, gunakan kolom country. Lalu print sample data dengan menggunakan head().</p>"
   ]
  },
  {
   "cell_type": "code",
   "execution_count": 6,
   "metadata": {
    "colab": {
     "base_uri": "https://localhost:8080/",
     "height": 119
    },
    "colab_type": "code",
    "id": "-oLXJvaBzthC",
    "outputId": "bad0f2c7-5678-4c35-c578-5b1112625f04"
   },
   "outputs": [
    {
     "name": "stdout",
     "output_type": "stream",
     "text": [
      "  country last_update    cases  deaths  recovered                      name\n",
      "0      US  2020-08-30  5993668  183034    2153939  United States of America\n",
      "1      BR  2020-08-30  3846153  120462    3202185                    Brazil\n",
      "2      IN  2020-08-30  3542733   63498    2713933                     India\n",
      "3      RU  2020-08-30   987470   17045     804941        Russian Federation\n",
      "4      PE  2020-08-30   639435   28607     446675                      Peru\n"
     ]
    }
   ],
   "source": [
    "df_covid_denormalized = pd.merge(df_covid_worldwide, df_countries, on='country')\n",
    "\n",
    "print(df_covid_denormalized.head())"
   ]
  },
  {
   "cell_type": "markdown",
   "metadata": {
    "colab_type": "text",
    "id": "10Xxv2mZ0im8"
   },
   "source": [
    "<div id=\"theorycontent\" style=\"overflow-x: scroll; display: block;\"><h2>Menghitung Fatality Rate</h2><p>Tambahkan satu kolom tambahan yaitu fatality_rate, yang merupakan pembagian antara kolom deaths dan cases.</p>"
   ]
  },
  {
   "cell_type": "code",
   "execution_count": 7,
   "metadata": {
    "colab": {},
    "colab_type": "code",
    "id": "BdV7vDx-0tL4"
   },
   "outputs": [],
   "source": [
    "df_covid_denormalized['fatality_rate'] = df_covid_denormalized['deaths']/df_covid_denormalized['cases']"
   ]
  },
  {
   "cell_type": "markdown",
   "metadata": {
    "colab_type": "text",
    "id": "rj2o5Lw_05yj"
   },
   "source": [
    "<div id=\"theorycontent\" style=\"overflow-x: scroll; display: block;\"><h2>Negara-negara dengan Fatality Rate Tertinggi</h2><p>Ambil top 20 negara dengan value kolom fatality_ratio tertinggi dengan menggunakan fungsi sort_values.</p>"
   ]
  },
  {
   "cell_type": "code",
   "execution_count": 8,
   "metadata": {
    "colab": {
     "base_uri": "https://localhost:8080/",
     "height": 359
    },
    "colab_type": "code",
    "id": "lUf-TaeC1AKd",
    "outputId": "499a97fc-9980-4a43-b53f-d20ac6ac52fb"
   },
   "outputs": [
    {
     "data": {
      "text/html": [
       "<div>\n",
       "<style scoped>\n",
       "    .dataframe tbody tr th:only-of-type {\n",
       "        vertical-align: middle;\n",
       "    }\n",
       "\n",
       "    .dataframe tbody tr th {\n",
       "        vertical-align: top;\n",
       "    }\n",
       "\n",
       "    .dataframe thead th {\n",
       "        text-align: right;\n",
       "    }\n",
       "</style>\n",
       "<table border=\"1\" class=\"dataframe\">\n",
       "  <thead>\n",
       "    <tr style=\"text-align: right;\">\n",
       "      <th></th>\n",
       "      <th>country</th>\n",
       "      <th>last_update</th>\n",
       "      <th>cases</th>\n",
       "      <th>deaths</th>\n",
       "      <th>recovered</th>\n",
       "      <th>name</th>\n",
       "      <th>fatality_rate</th>\n",
       "    </tr>\n",
       "  </thead>\n",
       "  <tbody>\n",
       "    <tr>\n",
       "      <th>139</th>\n",
       "      <td>YE</td>\n",
       "      <td>2020-08-30</td>\n",
       "      <td>1953</td>\n",
       "      <td>564</td>\n",
       "      <td>1123</td>\n",
       "      <td>Yemen</td>\n",
       "      <td>0.288786</td>\n",
       "    </tr>\n",
       "    <tr>\n",
       "      <th>18</th>\n",
       "      <td>IT</td>\n",
       "      <td>2020-08-30</td>\n",
       "      <td>268218</td>\n",
       "      <td>35477</td>\n",
       "      <td>208536</td>\n",
       "      <td>Italy</td>\n",
       "      <td>0.132269</td>\n",
       "    </tr>\n",
       "    <tr>\n",
       "      <th>12</th>\n",
       "      <td>GB</td>\n",
       "      <td>2020-08-30</td>\n",
       "      <td>336641</td>\n",
       "      <td>41586</td>\n",
       "      <td>1624</td>\n",
       "      <td>United Kingdom of Great Britain and Northern I...</td>\n",
       "      <td>0.123532</td>\n",
       "    </tr>\n",
       "    <tr>\n",
       "      <th>37</th>\n",
       "      <td>BE</td>\n",
       "      <td>2020-08-30</td>\n",
       "      <td>84599</td>\n",
       "      <td>9891</td>\n",
       "      <td>18403</td>\n",
       "      <td>Belgium</td>\n",
       "      <td>0.116916</td>\n",
       "    </tr>\n",
       "    <tr>\n",
       "      <th>7</th>\n",
       "      <td>MX</td>\n",
       "      <td>2020-08-30</td>\n",
       "      <td>591712</td>\n",
       "      <td>63819</td>\n",
       "      <td>484283</td>\n",
       "      <td>Mexico</td>\n",
       "      <td>0.107855</td>\n",
       "    </tr>\n",
       "    <tr>\n",
       "      <th>104</th>\n",
       "      <td>HU</td>\n",
       "      <td>2020-08-30</td>\n",
       "      <td>5961</td>\n",
       "      <td>614</td>\n",
       "      <td>3759</td>\n",
       "      <td>Hungary</td>\n",
       "      <td>0.103003</td>\n",
       "    </tr>\n",
       "    <tr>\n",
       "      <th>191</th>\n",
       "      <td>EH</td>\n",
       "      <td>2020-08-30</td>\n",
       "      <td>10</td>\n",
       "      <td>1</td>\n",
       "      <td>8</td>\n",
       "      <td>Western Sahara</td>\n",
       "      <td>0.100000</td>\n",
       "    </tr>\n",
       "    <tr>\n",
       "      <th>13</th>\n",
       "      <td>FR</td>\n",
       "      <td>2020-08-30</td>\n",
       "      <td>315813</td>\n",
       "      <td>30611</td>\n",
       "      <td>86495</td>\n",
       "      <td>France</td>\n",
       "      <td>0.096928</td>\n",
       "    </tr>\n",
       "    <tr>\n",
       "      <th>40</th>\n",
       "      <td>NL</td>\n",
       "      <td>2020-08-30</td>\n",
       "      <td>72679</td>\n",
       "      <td>6252</td>\n",
       "      <td>986</td>\n",
       "      <td>Netherlands</td>\n",
       "      <td>0.086022</td>\n",
       "    </tr>\n",
       "    <tr>\n",
       "      <th>156</th>\n",
       "      <td>TD</td>\n",
       "      <td>2020-08-30</td>\n",
       "      <td>1012</td>\n",
       "      <td>77</td>\n",
       "      <td>878</td>\n",
       "      <td>Chad</td>\n",
       "      <td>0.076087</td>\n",
       "    </tr>\n",
       "  </tbody>\n",
       "</table>\n",
       "</div>"
      ],
      "text/plain": [
       "    country  ... fatality_rate\n",
       "139      YE  ...      0.288786\n",
       "18       IT  ...      0.132269\n",
       "12       GB  ...      0.123532\n",
       "37       BE  ...      0.116916\n",
       "7        MX  ...      0.107855\n",
       "104      HU  ...      0.103003\n",
       "191      EH  ...      0.100000\n",
       "13       FR  ...      0.096928\n",
       "40       NL  ...      0.086022\n",
       "156      TD  ...      0.076087\n",
       "\n",
       "[10 rows x 7 columns]"
      ]
     },
     "execution_count": 8,
     "metadata": {
      "tags": []
     },
     "output_type": "execute_result"
    }
   ],
   "source": [
    "df_top_10_fatality_rate = df_covid_denormalized.sort_values(by='fatality_rate', ascending=False).head(10)\n",
    "df_top_10_fatality_rate"
   ]
  },
  {
   "cell_type": "markdown",
   "metadata": {
    "colab_type": "text",
    "id": "KpzwGVJx2Sva"
   },
   "source": [
    "<div id=\"theorycontent\" style=\"overflow-x: scroll; display: block;\"><h2>Import Library Visualisasi</h2><p>Importlah library matplotlib.pyplot sebagai aliasnya plt.</p>"
   ]
  },
  {
   "cell_type": "code",
   "execution_count": 9,
   "metadata": {
    "colab": {},
    "colab_type": "code",
    "id": "wIFikMJb2Wlx"
   },
   "outputs": [],
   "source": [
    "import matplotlib.pyplot as plt"
   ]
  },
  {
   "cell_type": "markdown",
   "metadata": {
    "colab_type": "text",
    "id": "tzA1K4gQ2slV"
   },
   "source": [
    "<div id=\"theorycontent\" style=\"overflow-x: scroll; display: block;\"><h2>Visualisasi Negara dengan Fatality Rate Tertinggi</h2><p>Untuk memvisualisasikan negara-negara dengan kasus fatality rate tertinggi akibat covid-19 ini dapat dilakukan dengan menggunakan bar chart.&nbsp; Di sini tentukan terlebih dahulu isi dari variable x axis dan y axis.</p>\n",
    "<p>Variabel x axis adalah kolom <strong>name</strong>, dan kolom y atau value nya adalah kolom <strong>fatality_rate</strong> dan gunakan fungsi plt.bar([value x axis, value y axis]).</p>\n",
    "<p>Label sumbu x diputar 90 derajat untuk menghindari bertumpuknya nama-nama negara pada posisi 0 derajat.</p>"
   ]
  },
  {
   "cell_type": "code",
   "execution_count": 10,
   "metadata": {
    "colab": {
     "base_uri": "https://localhost:8080/",
     "height": 510
    },
    "colab_type": "code",
    "id": "0RYRr9eP209w",
    "outputId": "1e26bd0a-83d8-439b-f689-59675aefa195"
   },
   "outputs": [
    {
     "data": {
      "image/png": "[encoded data removed]",
      "text/plain": [
       "<Figure size 1440x576 with 1 Axes>"
      ]
     },
     "metadata": {
      "needs_background": "light",
      "tags": []
     },
     "output_type": "display_data"
    }
   ],
   "source": [
    "import matplotlib.pyplot as plt\n",
    "plt.figure(figsize=(20, 8))\n",
    "x = df_top_10_fatality_rate['name']\n",
    "y = df_top_10_fatality_rate['fatality_rate']\n",
    "plt.bar(x,y)\n",
    "plt.xlabel('Country Name')\n",
    "plt.ylabel('Fatality Rate')\n",
    "plt.title('Top 20 Highest Fatality Rate Countries')\n",
    "plt.xticks(rotation=90)\n",
    "plt.tight_layout()\n",
    "plt.show()"
   ]
  },
  {
   "cell_type": "markdown",
   "metadata": {
    "colab_type": "text",
    "id": "osjabe883njf"
   },
   "source": [
    "<div id=\"theorycontent\" style=\"overflow-x: scroll; display: block;\"><h2>Menggabungkan Dataframe</h2><p>Selanjutnya adalah membandingkan kasus covid19 di Indonesia (ID) dengan negara-negara tetangga, yaitu:</p>\n",
    "<ul>\n",
    "<li>MY -&gt; Malaysia,</li>\n",
    "<li>SG -&gt; Singapure,</li>\n",
    "<li>TH -&gt; Thailand,</li>\n",
    "<li>VN -&gt; Vietnam.</li>\n",
    "<li>BN -&gt; Malaysia,</li>\n",
    "<li>MM -&gt; Myanmar,</li>\n",
    "<li>KH -&gt; Kambodja,</li>\n",
    "<li>PH -&gt; Filipina.</li>\n",
    "<li>LA -&gt; Laos.</li>\n",
    "<li>ID -&gt; Indonesia.</li>\n",
    "</ul>\n",
    "<p>Untuk itu, api country dipanggil berkali-kali sebanyak negara yang akan kita bandingkan.</p>\n",
    "<p>Gunakan fungsi pd.io.json.json_normalize dan panggil function yang sudah dibuat sebelumnya, yaitu get_json().</p>\n",
    "<p>Gunakan fungsi datetime untuk merubah string ke bentuk datetime (YYYY-mm-dd HH:MM:SS) yang selanjutnya diubah ke format date.</p>\n",
    "<p>Cetaklah lima data teratas dari dataframe yang telah dibentuk.</p>"
   ]
  },
  {
   "cell_type": "code",
   "execution_count": 11,
   "metadata": {
    "colab": {
     "base_uri": "https://localhost:8080/",
     "height": 153
    },
    "colab_type": "code",
    "id": "ZiBMKTo83rtC",
    "outputId": "efe18001-363e-4406-8d03-98db513bf743"
   },
   "outputs": [
    {
     "name": "stderr",
     "output_type": "stream",
     "text": [
      "/usr/local/lib/python3.6/dist-packages/ipykernel_launcher.py:8: FutureWarning: pandas.io.json.json_normalize is deprecated, use pandas.json_normalize instead\n",
      "  \n"
     ]
    },
    {
     "name": "stdout",
     "output_type": "stream",
     "text": [
      "  country last_update   cases  deaths  recovered\n",
      "0      PH  2020-08-31  220819    3558     157562\n",
      "1      PH  2020-08-30  217396    3520     157403\n",
      "2      PH  2020-08-29  213131    3419     135101\n",
      "3      PH  2020-08-28  209544    3325     134474\n",
      "4      PH  2020-08-27  205581    3234     133990\n"
     ]
    }
   ],
   "source": [
    "countries = ['ID','BN','MY','KH','SG','TH','VN','LA','MM','PH']\n",
    "\n",
    "# names = ['Indonesia', Brunei Darussalam','Malaysia','Cambodia','Singapore',\n",
    "#          'Thailand','Viet Nam',\"Lao People's Democratic Republic\", 'Myanmar', 'Philippines']\n",
    "i = 0\n",
    "for country in countries:\n",
    "\tcovid_timeline_url = 'https://covid19-api.org/api/timeline/'+country\n",
    "\tdf_covid_timeline = pd.io.json.json_normalize(get_json(covid_timeline_url))\n",
    "\tdf_covid_timeline['last_update'] = pd.to_datetime(df_covid_timeline['last_update'], format='%Y-%m-%dT%H:%M:%S')\n",
    "\tdf_covid_timeline['last_update'] = df_covid_timeline['last_update'].apply(lambda x: x.date())\n",
    "\tif i==0:\n",
    "\t\tdf_covid_timeline_merged = df_covid_timeline\n",
    "\telse:\n",
    "\t\tdf_covid_timeline_merged = df_covid_timeline.append(df_covid_timeline_merged, ignore_index=True)\n",
    "\ti=i+1\n",
    "    \n",
    "print(df_covid_timeline_merged.head())"
   ]
  },
  {
   "cell_type": "markdown",
   "metadata": {
    "colab_type": "text",
    "id": "TqJ5Glmz5Kxl"
   },
   "source": [
    "<div id=\"theorycontent\" style=\"overflow-x: scroll; display: block;\"><h2>Merge Data Covid19 Dengan Data Country</h2><p>Lalu gabungkan df_covid_timeline_merged dengan df_countries dengan kolom country sebagai pivot.</p>"
   ]
  },
  {
   "cell_type": "code",
   "execution_count": 12,
   "metadata": {
    "colab": {
     "base_uri": "https://localhost:8080/",
     "height": 419
    },
    "colab_type": "code",
    "id": "FxqerSl85OEc",
    "outputId": "a6f08f14-2e44-4367-998d-8753be68cd03"
   },
   "outputs": [
    {
     "data": {
      "text/html": [
       "<div>\n",
       "<style scoped>\n",
       "    .dataframe tbody tr th:only-of-type {\n",
       "        vertical-align: middle;\n",
       "    }\n",
       "\n",
       "    .dataframe tbody tr th {\n",
       "        vertical-align: top;\n",
       "    }\n",
       "\n",
       "    .dataframe thead th {\n",
       "        text-align: right;\n",
       "    }\n",
       "</style>\n",
       "<table border=\"1\" class=\"dataframe\">\n",
       "  <thead>\n",
       "    <tr style=\"text-align: right;\">\n",
       "      <th></th>\n",
       "      <th>country</th>\n",
       "      <th>last_update</th>\n",
       "      <th>cases</th>\n",
       "      <th>deaths</th>\n",
       "      <th>recovered</th>\n",
       "      <th>name</th>\n",
       "    </tr>\n",
       "  </thead>\n",
       "  <tbody>\n",
       "    <tr>\n",
       "      <th>0</th>\n",
       "      <td>PH</td>\n",
       "      <td>2020-08-31</td>\n",
       "      <td>220819</td>\n",
       "      <td>3558</td>\n",
       "      <td>157562</td>\n",
       "      <td>Philippines</td>\n",
       "    </tr>\n",
       "    <tr>\n",
       "      <th>1</th>\n",
       "      <td>PH</td>\n",
       "      <td>2020-08-30</td>\n",
       "      <td>217396</td>\n",
       "      <td>3520</td>\n",
       "      <td>157403</td>\n",
       "      <td>Philippines</td>\n",
       "    </tr>\n",
       "    <tr>\n",
       "      <th>2</th>\n",
       "      <td>PH</td>\n",
       "      <td>2020-08-29</td>\n",
       "      <td>213131</td>\n",
       "      <td>3419</td>\n",
       "      <td>135101</td>\n",
       "      <td>Philippines</td>\n",
       "    </tr>\n",
       "    <tr>\n",
       "      <th>3</th>\n",
       "      <td>PH</td>\n",
       "      <td>2020-08-28</td>\n",
       "      <td>209544</td>\n",
       "      <td>3325</td>\n",
       "      <td>134474</td>\n",
       "      <td>Philippines</td>\n",
       "    </tr>\n",
       "    <tr>\n",
       "      <th>4</th>\n",
       "      <td>PH</td>\n",
       "      <td>2020-08-27</td>\n",
       "      <td>205581</td>\n",
       "      <td>3234</td>\n",
       "      <td>133990</td>\n",
       "      <td>Philippines</td>\n",
       "    </tr>\n",
       "    <tr>\n",
       "      <th>...</th>\n",
       "      <td>...</td>\n",
       "      <td>...</td>\n",
       "      <td>...</td>\n",
       "      <td>...</td>\n",
       "      <td>...</td>\n",
       "      <td>...</td>\n",
       "    </tr>\n",
       "    <tr>\n",
       "      <th>1847</th>\n",
       "      <td>ID</td>\n",
       "      <td>2020-03-10</td>\n",
       "      <td>27</td>\n",
       "      <td>0</td>\n",
       "      <td>2</td>\n",
       "      <td>Indonesia</td>\n",
       "    </tr>\n",
       "    <tr>\n",
       "      <th>1848</th>\n",
       "      <td>ID</td>\n",
       "      <td>2020-03-09</td>\n",
       "      <td>19</td>\n",
       "      <td>0</td>\n",
       "      <td>0</td>\n",
       "      <td>Indonesia</td>\n",
       "    </tr>\n",
       "    <tr>\n",
       "      <th>1849</th>\n",
       "      <td>ID</td>\n",
       "      <td>2020-03-08</td>\n",
       "      <td>6</td>\n",
       "      <td>0</td>\n",
       "      <td>0</td>\n",
       "      <td>Indonesia</td>\n",
       "    </tr>\n",
       "    <tr>\n",
       "      <th>1850</th>\n",
       "      <td>ID</td>\n",
       "      <td>2020-03-06</td>\n",
       "      <td>4</td>\n",
       "      <td>0</td>\n",
       "      <td>0</td>\n",
       "      <td>Indonesia</td>\n",
       "    </tr>\n",
       "    <tr>\n",
       "      <th>1851</th>\n",
       "      <td>ID</td>\n",
       "      <td>2020-03-02</td>\n",
       "      <td>2</td>\n",
       "      <td>0</td>\n",
       "      <td>0</td>\n",
       "      <td>Indonesia</td>\n",
       "    </tr>\n",
       "  </tbody>\n",
       "</table>\n",
       "<p>1852 rows × 6 columns</p>\n",
       "</div>"
      ],
      "text/plain": [
       "     country last_update   cases  deaths  recovered         name\n",
       "0         PH  2020-08-31  220819    3558     157562  Philippines\n",
       "1         PH  2020-08-30  217396    3520     157403  Philippines\n",
       "2         PH  2020-08-29  213131    3419     135101  Philippines\n",
       "3         PH  2020-08-28  209544    3325     134474  Philippines\n",
       "4         PH  2020-08-27  205581    3234     133990  Philippines\n",
       "...      ...         ...     ...     ...        ...          ...\n",
       "1847      ID  2020-03-10      27       0          2    Indonesia\n",
       "1848      ID  2020-03-09      19       0          0    Indonesia\n",
       "1849      ID  2020-03-08       6       0          0    Indonesia\n",
       "1850      ID  2020-03-06       4       0          0    Indonesia\n",
       "1851      ID  2020-03-02       2       0          0    Indonesia\n",
       "\n",
       "[1852 rows x 6 columns]"
      ]
     },
     "execution_count": 12,
     "metadata": {
      "tags": []
     },
     "output_type": "execute_result"
    }
   ],
   "source": [
    "df_covid_timeline_denormalized = pd.merge( df_covid_timeline_merged, df_countries, on='country')\n",
    "df_covid_timeline_denormalized"
   ]
  },
  {
   "cell_type": "markdown",
   "metadata": {
    "colab_type": "text",
    "id": "27usjuVY5nhM"
   },
   "source": [
    "<div id=\"theorycontent\" style=\"overflow-x: scroll; display: block;\"><h2>Kasus Covid-19 di ASEAN pada Bulan Maret 2020</h2><p>Filter kolom last_update dari data covid19 sehingga hanya data dari tanggal 1 Maret 2020 ke atas yangdiambil. Format datetime.date menggunakan format YYYY, mm, dd.</p>"
   ]
  },
  {
   "cell_type": "code",
   "execution_count": 13,
   "metadata": {
    "colab": {
     "base_uri": "https://localhost:8080/",
     "height": 204
    },
    "colab_type": "code",
    "id": "jpZ1Ac-U5rCf",
    "outputId": "33a30acd-7857-4aab-b0f7-f5cf70c11b54"
   },
   "outputs": [
    {
     "data": {
      "text/plain": [
       "MY    181\n",
       "SG    181\n",
       "TH    180\n",
       "ID    178\n",
       "PH    178\n",
       "VN    177\n",
       "BN    175\n",
       "KH    172\n",
       "LA    161\n",
       "MM    158\n",
       "Name: country, dtype: int64"
      ]
     },
     "execution_count": 13,
     "metadata": {
      "tags": []
     },
     "output_type": "execute_result"
    }
   ],
   "source": [
    "import datetime\n",
    "df_covid_timeline_denormalized = df_covid_timeline_denormalized[(df_covid_timeline_denormalized['last_update'] >= datetime.date(2020, 3, 1))]\n",
    "df_covid_timeline_denormalized.country.value_counts()"
   ]
  },
  {
   "cell_type": "markdown",
   "metadata": {
    "colab_type": "text",
    "id": "UhUWhqAR7pBx"
   },
   "source": [
    "<div id=\"theorycontent\" style=\"overflow-x: scroll; display: block;\"><h2>Visualisasi Kasus Covid-19 di ASEAN</h2><p>Buat variable x dan y dimana x adalah tanggal (last_update) pada tiap-tiap negara dan y adalah jumlah kasus (cases) pada tiap-tiap negara. Lalu plot x dan y untuk menggambar line chart.</p>"
   ]
  },
  {
   "cell_type": "code",
   "execution_count": 14,
   "metadata": {
    "colab": {
     "base_uri": "https://localhost:8080/",
     "height": 513
    },
    "colab_type": "code",
    "id": "KXSgPaHK7yGY",
    "outputId": "4f1811ee-b6e5-49c3-8d6a-f0954ea8d9c8"
   },
   "outputs": [
    {
     "data": {
      "image/png": "[encoded data removed]",
      "text/plain": [
       "<Figure size 1440x576 with 1 Axes>"
      ]
     },
     "metadata": {
      "needs_background": "light",
      "tags": []
     },
     "output_type": "display_data"
    }
   ],
   "source": [
    "import matplotlib.pyplot as plt\n",
    "plt.figure(figsize=(20, 8))\n",
    "plt.clf()\n",
    "\n",
    "countries = ['ID','BN','MY','KH','SG','TH','VN','LA','MM','PH']\n",
    "# names = ['Indonesia', 'Malaysia', 'Brunei Darussalam','Malaysia','Cambodia','Singapore',\n",
    "#          'Thailand','Viet Nam',\"Lao People's Democratic Republic\", 'Myanmar', 'Philippines']\n",
    "for country in countries:\n",
    "\tcountry_data = df_covid_timeline_denormalized['country']==country\n",
    "\tx = df_covid_timeline_denormalized[country_data]['last_update']\n",
    "\ty = df_covid_timeline_denormalized[country_data]['cases']\n",
    "\tplt.plot(x, y, label = country)\n",
    "\n",
    "plt.legend()\n",
    "plt.xlabel('Waktu (bulan)')\n",
    "plt.ylabel('Total Kasus')\n",
    "plt.title('Laju Pertumbuhan Kasus COVID-19 di Negara ASEAN')\n",
    "plt.show()"
   ]
  },
  {
   "cell_type": "code",
   "execution_count": 15,
   "metadata": {
    "colab": {
     "base_uri": "https://localhost:8080/",
     "height": 119
    },
    "colab_type": "code",
    "id": "PevqiqpniM06",
    "outputId": "c457f25c-59ed-4ac3-c419-1b6ef9777422"
   },
   "outputs": [
    {
     "name": "stderr",
     "output_type": "stream",
     "text": [
      "/usr/local/lib/python3.6/dist-packages/ipykernel_launcher.py:1: SettingWithCopyWarning: \n",
      "A value is trying to be set on a copy of a slice from a DataFrame.\n",
      "Try using .loc[row_indexer,col_indexer] = value instead\n",
      "\n",
      "See the caveats in the documentation: https://pandas.pydata.org/pandas-docs/stable/user_guide/indexing.html#returning-a-view-versus-a-copy\n",
      "  \"\"\"Entry point for launching an IPython kernel.\n"
     ]
    }
   ],
   "source": [
    "df_covid_timeline_denormalized['fatality_rate'] = df_covid_timeline_denormalized['deaths']/df_covid_timeline_denormalized['cases']\n",
    "df_covid_timeline_denormalized= df_covid_timeline_denormalized.sort_values(by='fatality_rate', ascending=False)"
   ]
  },
  {
   "cell_type": "code",
   "execution_count": 16,
   "metadata": {
    "colab": {
     "base_uri": "https://localhost:8080/",
     "height": 510
    },
    "colab_type": "code",
    "id": "DgZUuuM-hUZJ",
    "outputId": "9ba78378-7bd4-4bdf-b2b5-2481343f7858"
   },
   "outputs": [
    {
     "data": {
      "image/png": "[encoded data removed]",
      "text/plain": [
       "<Figure size 1440x576 with 1 Axes>"
      ]
     },
     "metadata": {
      "needs_background": "light",
      "tags": []
     },
     "output_type": "display_data"
    }
   ],
   "source": [
    "import matplotlib.pyplot as plt\n",
    "plt.figure(figsize=(20, 8))\n",
    "x = df_covid_timeline_denormalized['name']\n",
    "y = df_covid_timeline_denormalized['fatality_rate']\n",
    "plt.bar(x,y)\n",
    "# plt.xlabel('Negara')\n",
    "plt.ylabel('Case Fatality Rate')\n",
    "plt.title('CFR Pandemi Covid-19 di Negara-negara Asia Tenggara')\n",
    "plt.xticks(rotation=90)\n",
    "plt.tight_layout()\n",
    "plt.show()"
   ]
  }
 ],
 "metadata": {
  "colab": {
   "collapsed_sections": [],
   "name": "Analisis Data COVID 19 di Dunia & ASIA.ipynb",
   "provenance": []
  },
  "kernelspec": {
   "display_name": "Python 3",
   "language": "python",
   "name": "python3"
  },
  "language_info": {
   "codemirror_mode": {
    "name": "ipython",
    "version": 3
   },
   "file_extension": ".py",
   "mimetype": "text/x-python",
   "name": "python",
   "nbconvert_exporter": "python",
   "pygments_lexer": "ipython3",
   "version": "3.8.3"
  },
  "latex_envs": {
   "LaTeX_envs_menu_present": true,
   "autoclose": true,
   "autocomplete": true,
   "bibliofile": "biblio.bib",
   "cite_by": "apalike",
   "current_citInitial": 1,
   "eqLabelWithNumbers": true,
   "eqNumInitial": 1,
   "hotkeys": {
    "equation": "Ctrl-E",
    "itemize": "Ctrl-I"
   },
   "labels_anchors": false,
   "latex_user_defs": false,
   "report_style_numbering": false,
   "user_envs_cfg": false
  }
 },
 "nbformat": 4,
 "nbformat_minor": 1
}
